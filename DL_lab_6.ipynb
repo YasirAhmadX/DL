{
  "nbformat": 4,
  "nbformat_minor": 0,
  "metadata": {
    "colab": {
      "provenance": [],
      "authorship_tag": "ABX9TyOsR1T7TKmUpJQiZ5ePnWYd",
      "include_colab_link": true
    },
    "kernelspec": {
      "name": "python3",
      "display_name": "Python 3"
    },
    "language_info": {
      "name": "python"
    }
  },
  "cells": [
    {
      "cell_type": "markdown",
      "metadata": {
        "id": "view-in-github",
        "colab_type": "text"
      },
      "source": [
        "<a href=\"https://colab.research.google.com/github/YasirAhmadX/DL/blob/main/DL_lab_6.ipynb\" target=\"_parent\"><img src=\"https://colab.research.google.com/assets/colab-badge.svg\" alt=\"Open In Colab\"/></a>"
      ]
    },
    {
      "cell_type": "markdown",
      "source": [
        "# Transfer Learning\n",
        "\n",
        "experiment 4 (18th Feb,2025)"
      ],
      "metadata": {
        "id": "KmW1eggbCyqC"
      }
    },
    {
      "cell_type": "markdown",
      "source": [
        "## Steps\n",
        "\n",
        "* Choose a pretrained CNN model\n",
        "* Freeze the initial layer\n",
        "* Replace the final layer\n",
        "* fine-tuning\n"
      ],
      "metadata": {
        "id": "c2kAuhDDDH4y"
      }
    },
    {
      "cell_type": "code",
      "execution_count": 2,
      "metadata": {
        "id": "e8whbhlRCoix"
      },
      "outputs": [],
      "source": [
        "import tensorflow as tf\n",
        "from tensorflow.keras.applications import ResNet50\n",
        "from tensorflow.keras.layers import Dense, GlobalAveragePooling2D\n",
        "from tensorflow.keras.models import Model\n",
        "from tensorflow.keras.preprocessing import image\n",
        "import numpy as np"
      ]
    },
    {
      "cell_type": "code",
      "source": [
        "base_model = ResNet50(weights='imagenet', include_top=False, input_shape=(224, 224, 3))\n",
        "\n",
        "for layer in base_model.layers:\n",
        "  layer.trainable = False\n",
        "\n",
        "x = base_model.output\n",
        "x = GlobalAveragePooling2D()(x)\n",
        "x = Dense(256, activation = 'relu')(x)\n",
        "output_layer = Dense(1, 'sigmoid')(x)"
      ],
      "metadata": {
        "colab": {
          "base_uri": "https://localhost:8080/"
        },
        "id": "wiobmMc8FzZh",
        "outputId": "7459b1d6-711b-4c77-efc0-2bea38c889c8"
      },
      "execution_count": 3,
      "outputs": [
        {
          "output_type": "stream",
          "name": "stdout",
          "text": [
            "Downloading data from https://storage.googleapis.com/tensorflow/keras-applications/resnet/resnet50_weights_tf_dim_ordering_tf_kernels_notop.h5\n",
            "\u001b[1m94765736/94765736\u001b[0m \u001b[32m━━━━━━━━━━━━━━━━━━━━\u001b[0m\u001b[37m\u001b[0m \u001b[1m1s\u001b[0m 0us/step\n"
          ]
        }
      ]
    },
    {
      "cell_type": "code",
      "source": [
        "model = Model(inputs = base_model.input, outputs = output_layer)\n",
        "model.compile(optimizer = 'adam', loss = 'categorical_crossentropy', metrics = ['accuracy'])"
      ],
      "metadata": {
        "id": "QaOq5po3Hal7"
      },
      "execution_count": 4,
      "outputs": []
    },
    {
      "cell_type": "code",
      "source": [
        "#model.fit(new_data_x,new_data_y)"
      ],
      "metadata": {
        "id": "2EieG_8VIWcL"
      },
      "execution_count": 5,
      "outputs": []
    },
    {
      "cell_type": "markdown",
      "source": [
        "## testing\n"
      ],
      "metadata": {
        "id": "f2ao3-l4IrIX"
      }
    },
    {
      "cell_type": "code",
      "source": [
        "!wget https://miro.medium.com/v2/resize:fit:800/1*iIN-15rUMgVV7W2LZ8hztQ.jpeg"
      ],
      "metadata": {
        "colab": {
          "base_uri": "https://localhost:8080/"
        },
        "id": "-ch1XrT4Jz8M",
        "outputId": "3abb5410-400b-45a3-80c9-f6f9f61a18ab"
      },
      "execution_count": 12,
      "outputs": [
        {
          "output_type": "stream",
          "name": "stdout",
          "text": [
            "Warning: wildcards not supported in HTTP.\n",
            "--2025-02-18 03:43:29--  https://miro.medium.com/v2/resize:fit:800/1*iIN-15rUMgVV7W2LZ8hztQ.jpeg\n",
            "Resolving miro.medium.com (miro.medium.com)... 162.159.152.4, 162.159.153.4, 2606:4700:7::a29f:9904, ...\n",
            "Connecting to miro.medium.com (miro.medium.com)|162.159.152.4|:443... connected.\n",
            "HTTP request sent, awaiting response... 200 OK\n",
            "Length: 26658 (26K) [image/jpeg]\n",
            "Saving to: ‘1*iIN-15rUMgVV7W2LZ8hztQ.jpeg’\n",
            "\n",
            "\r          1*iIN-15r   0%[                    ]       0  --.-KB/s               \r1*iIN-15rUMgVV7W2LZ 100%[===================>]  26.03K  --.-KB/s    in 0s      \n",
            "\n",
            "2025-02-18 03:43:29 (122 MB/s) - ‘1*iIN-15rUMgVV7W2LZ8hztQ.jpeg’ saved [26658/26658]\n",
            "\n"
          ]
        }
      ]
    },
    {
      "cell_type": "code",
      "source": [
        "img_path = '/content/1*iIN-15rUMgVV7W2LZ8hztQ.jpeg'"
      ],
      "metadata": {
        "id": "jK7PkUUwIhIh"
      },
      "execution_count": 13,
      "outputs": []
    },
    {
      "cell_type": "code",
      "source": [
        "img = image.load_img(img_path,target_size=(224,224))\n",
        "img_array = np.array(img)\n",
        "img_array = np.expand_dims(img_array, axis=0)\n",
        "img_array = tf.keras.applications.resnet50.preprocess_input(img_array)"
      ],
      "metadata": {
        "id": "ycWOqXOTJB5W"
      },
      "execution_count": 14,
      "outputs": []
    },
    {
      "cell_type": "code",
      "source": [
        "p = model.predict(img_array)\n",
        "p"
      ],
      "metadata": {
        "colab": {
          "base_uri": "https://localhost:8080/"
        },
        "id": "9yQ64on_JWJa",
        "outputId": "8f6f980e-456c-482e-d0c6-4a451886ded8"
      },
      "execution_count": 16,
      "outputs": [
        {
          "output_type": "stream",
          "name": "stdout",
          "text": [
            "\u001b[1m1/1\u001b[0m \u001b[32m━━━━━━━━━━━━━━━━━━━━\u001b[0m\u001b[37m\u001b[0m \u001b[1m0s\u001b[0m 206ms/step\n"
          ]
        },
        {
          "output_type": "execute_result",
          "data": {
            "text/plain": [
              "array([[0.12294509]], dtype=float32)"
            ]
          },
          "metadata": {},
          "execution_count": 16
        }
      ]
    },
    {
      "cell_type": "code",
      "source": [
        "p = np.argmax(p,axis=1)\n",
        "p"
      ],
      "metadata": {
        "colab": {
          "base_uri": "https://localhost:8080/"
        },
        "id": "WF82PddlJaTZ",
        "outputId": "759b3508-5f45-437e-d239-156fb458419d"
      },
      "execution_count": 17,
      "outputs": [
        {
          "output_type": "execute_result",
          "data": {
            "text/plain": [
              "array([0])"
            ]
          },
          "metadata": {},
          "execution_count": 17
        }
      ]
    },
    {
      "cell_type": "code",
      "source": [
        "class_names = ['tench', 'goldfish', 'great white shark', 'tiger shark', 'hammerhead', 'electric ray', 'stingray', 'cock', 'hen', 'ostrich']"
      ],
      "metadata": {
        "id": "Tg7-37hzKT9C"
      },
      "execution_count": null,
      "outputs": []
    },
    {
      "cell_type": "code",
      "source": [
        "help(np.argmax)"
      ],
      "metadata": {
        "colab": {
          "base_uri": "https://localhost:8080/"
        },
        "id": "fabeR8a5LXug",
        "outputId": "e3459507-50f6-4a7d-a751-de8440a07c2b"
      },
      "execution_count": 18,
      "outputs": [
        {
          "output_type": "stream",
          "name": "stdout",
          "text": [
            "Help on _ArrayFunctionDispatcher in module numpy:\n",
            "\n",
            "argmax(a, axis=None, out=None, *, keepdims=<no value>)\n",
            "    Returns the indices of the maximum values along an axis.\n",
            "    \n",
            "    Parameters\n",
            "    ----------\n",
            "    a : array_like\n",
            "        Input array.\n",
            "    axis : int, optional\n",
            "        By default, the index is into the flattened array, otherwise\n",
            "        along the specified axis.\n",
            "    out : array, optional\n",
            "        If provided, the result will be inserted into this array. It should\n",
            "        be of the appropriate shape and dtype.\n",
            "    keepdims : bool, optional\n",
            "        If this is set to True, the axes which are reduced are left\n",
            "        in the result as dimensions with size one. With this option,\n",
            "        the result will broadcast correctly against the array.\n",
            "    \n",
            "        .. versionadded:: 1.22.0\n",
            "    \n",
            "    Returns\n",
            "    -------\n",
            "    index_array : ndarray of ints\n",
            "        Array of indices into the array. It has the same shape as `a.shape`\n",
            "        with the dimension along `axis` removed. If `keepdims` is set to True,\n",
            "        then the size of `axis` will be 1 with the resulting array having same\n",
            "        shape as `a.shape`.\n",
            "    \n",
            "    See Also\n",
            "    --------\n",
            "    ndarray.argmax, argmin\n",
            "    amax : The maximum value along a given axis.\n",
            "    unravel_index : Convert a flat index into an index tuple.\n",
            "    take_along_axis : Apply ``np.expand_dims(index_array, axis)``\n",
            "                      from argmax to an array as if by calling max.\n",
            "    \n",
            "    Notes\n",
            "    -----\n",
            "    In case of multiple occurrences of the maximum values, the indices\n",
            "    corresponding to the first occurrence are returned.\n",
            "    \n",
            "    Examples\n",
            "    --------\n",
            "    >>> a = np.arange(6).reshape(2,3) + 10\n",
            "    >>> a\n",
            "    array([[10, 11, 12],\n",
            "           [13, 14, 15]])\n",
            "    >>> np.argmax(a)\n",
            "    5\n",
            "    >>> np.argmax(a, axis=0)\n",
            "    array([1, 1, 1])\n",
            "    >>> np.argmax(a, axis=1)\n",
            "    array([2, 2])\n",
            "    \n",
            "    Indexes of the maximal elements of a N-dimensional array:\n",
            "    \n",
            "    >>> ind = np.unravel_index(np.argmax(a, axis=None), a.shape)\n",
            "    >>> ind\n",
            "    (1, 2)\n",
            "    >>> a[ind]\n",
            "    15\n",
            "    \n",
            "    >>> b = np.arange(6)\n",
            "    >>> b[1] = 5\n",
            "    >>> b\n",
            "    array([0, 5, 2, 3, 4, 5])\n",
            "    >>> np.argmax(b)  # Only the first occurrence is returned.\n",
            "    1\n",
            "    \n",
            "    >>> x = np.array([[4,2,3], [1,0,3]])\n",
            "    >>> index_array = np.argmax(x, axis=-1)\n",
            "    >>> # Same as np.amax(x, axis=-1, keepdims=True)\n",
            "    >>> np.take_along_axis(x, np.expand_dims(index_array, axis=-1), axis=-1)\n",
            "    array([[4],\n",
            "           [3]])\n",
            "    >>> # Same as np.amax(x, axis=-1)\n",
            "    >>> np.take_along_axis(x, np.expand_dims(index_array, axis=-1), axis=-1).squeeze(axis=-1)\n",
            "    array([4, 3])\n",
            "    \n",
            "    Setting `keepdims` to `True`,\n",
            "    \n",
            "    >>> x = np.arange(24).reshape((2, 3, 4))\n",
            "    >>> res = np.argmax(x, axis=1, keepdims=True)\n",
            "    >>> res.shape\n",
            "    (2, 1, 4)\n",
            "\n"
          ]
        }
      ]
    },
    {
      "cell_type": "code",
      "source": [],
      "metadata": {
        "id": "4xSoLRMQMCqU"
      },
      "execution_count": null,
      "outputs": []
    }
  ]
}