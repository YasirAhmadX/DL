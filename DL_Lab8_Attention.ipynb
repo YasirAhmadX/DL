{
  "nbformat": 4,
  "nbformat_minor": 0,
  "metadata": {
    "colab": {
      "provenance": [],
      "gpuType": "T4",
      "mount_file_id": "1k_0vBdBtr3Re9mF0vS6HkAat7Wn2D1Qp",
      "authorship_tag": "ABX9TyNUloObKoN/pzrvWWo+6vmY",
      "include_colab_link": true
    },
    "kernelspec": {
      "name": "python3",
      "display_name": "Python 3"
    },
    "language_info": {
      "name": "python"
    },
    "accelerator": "GPU"
  },
  "cells": [
    {
      "cell_type": "markdown",
      "metadata": {
        "id": "view-in-github",
        "colab_type": "text"
      },
      "source": [
        "<a href=\"https://colab.research.google.com/github/YasirAhmadX/DL/blob/main/DL_Lab8_Attention.ipynb\" target=\"_parent\"><img src=\"https://colab.research.google.com/assets/colab-badge.svg\" alt=\"Open In Colab\"/></a>"
      ]
    },
    {
      "cell_type": "markdown",
      "source": [
        "# DL Lab-8 (Attention Mechanism)\n",
        "\n",
        "\n",
        "---\n",
        "\n",
        "\n",
        "> Yasir Ahmad  \n",
        "> 22MIA1064\n",
        "\n"
      ],
      "metadata": {
        "id": "nhkyoP6NO4Lr"
      }
    },
    {
      "cell_type": "markdown",
      "source": [
        "# LSTM with Attention\n",
        "\n",
        "\n",
        "Implementing LSTM with Attention\n",
        "\n",
        "> Attention finds out important features using LSTM (or GRU). Attention cannot be use independently."
      ],
      "metadata": {
        "id": "HMCszdI6aIwq"
      }
    },
    {
      "cell_type": "markdown",
      "source": [
        "## import libraries"
      ],
      "metadata": {
        "id": "nJrraopLQzVG"
      }
    },
    {
      "cell_type": "code",
      "execution_count": 35,
      "metadata": {
        "id": "vp9s_2M2Oxuw"
      },
      "outputs": [],
      "source": [
        "import tensorflow as tf\n",
        "\n",
        "from tensorflow.keras.datasets import imdb\n",
        "\n",
        "from tensorflow.keras.preprocessing.sequence import pad_sequences\n",
        "\n",
        "from tensorflow.keras.layers import Embedding, LSTM, Dense, Activation, Layer\n",
        "\n",
        "import numpy as np"
      ]
    },
    {
      "cell_type": "markdown",
      "source": [
        "## 1. Load dataset"
      ],
      "metadata": {
        "id": "qQLX9gYfQ0Wu"
      }
    },
    {
      "cell_type": "code",
      "source": [
        "vocab_size = 1000\n",
        "max_len = 200\n",
        "\n",
        "(x_train, y_train), (x_test, y_test) = imdb.load_data(num_words = vocab_size)"
      ],
      "metadata": {
        "id": "mWAFVqyuRGio"
      },
      "execution_count": 36,
      "outputs": []
    },
    {
      "cell_type": "code",
      "source": [
        "x_train"
      ],
      "metadata": {
        "colab": {
          "base_uri": "https://localhost:8080/"
        },
        "id": "g0pqAxqyTPxM",
        "outputId": "c0d7ede8-5c47-4042-fb26-bb2cbce55f0c"
      },
      "execution_count": 37,
      "outputs": [
        {
          "output_type": "execute_result",
          "data": {
            "text/plain": [
              "array([list([1, 14, 22, 16, 43, 530, 973, 2, 2, 65, 458, 2, 66, 2, 4, 173, 36, 256, 5, 25, 100, 43, 838, 112, 50, 670, 2, 9, 35, 480, 284, 5, 150, 4, 172, 112, 167, 2, 336, 385, 39, 4, 172, 2, 2, 17, 546, 38, 13, 447, 4, 192, 50, 16, 6, 147, 2, 19, 14, 22, 4, 2, 2, 469, 4, 22, 71, 87, 12, 16, 43, 530, 38, 76, 15, 13, 2, 4, 22, 17, 515, 17, 12, 16, 626, 18, 2, 5, 62, 386, 12, 8, 316, 8, 106, 5, 4, 2, 2, 16, 480, 66, 2, 33, 4, 130, 12, 16, 38, 619, 5, 25, 124, 51, 36, 135, 48, 25, 2, 33, 6, 22, 12, 215, 28, 77, 52, 5, 14, 407, 16, 82, 2, 8, 4, 107, 117, 2, 15, 256, 4, 2, 7, 2, 5, 723, 36, 71, 43, 530, 476, 26, 400, 317, 46, 7, 4, 2, 2, 13, 104, 88, 4, 381, 15, 297, 98, 32, 2, 56, 26, 141, 6, 194, 2, 18, 4, 226, 22, 21, 134, 476, 26, 480, 5, 144, 30, 2, 18, 51, 36, 28, 224, 92, 25, 104, 4, 226, 65, 16, 38, 2, 88, 12, 16, 283, 5, 16, 2, 113, 103, 32, 15, 16, 2, 19, 178, 32]),\n",
              "       list([1, 194, 2, 194, 2, 78, 228, 5, 6, 2, 2, 2, 134, 26, 4, 715, 8, 118, 2, 14, 394, 20, 13, 119, 954, 189, 102, 5, 207, 110, 2, 21, 14, 69, 188, 8, 30, 23, 7, 4, 249, 126, 93, 4, 114, 9, 2, 2, 5, 647, 4, 116, 9, 35, 2, 4, 229, 9, 340, 2, 4, 118, 9, 4, 130, 2, 19, 4, 2, 5, 89, 29, 952, 46, 37, 4, 455, 9, 45, 43, 38, 2, 2, 398, 4, 2, 26, 2, 5, 163, 11, 2, 2, 4, 2, 9, 194, 775, 7, 2, 2, 349, 2, 148, 605, 2, 2, 15, 123, 125, 68, 2, 2, 15, 349, 165, 2, 98, 5, 4, 228, 9, 43, 2, 2, 15, 299, 120, 5, 120, 174, 11, 220, 175, 136, 50, 9, 2, 228, 2, 5, 2, 656, 245, 2, 5, 4, 2, 131, 152, 491, 18, 2, 32, 2, 2, 14, 9, 6, 371, 78, 22, 625, 64, 2, 9, 8, 168, 145, 23, 4, 2, 15, 16, 4, 2, 5, 28, 6, 52, 154, 462, 33, 89, 78, 285, 16, 145, 95]),\n",
              "       list([1, 14, 47, 8, 30, 31, 7, 4, 249, 108, 7, 4, 2, 54, 61, 369, 13, 71, 149, 14, 22, 112, 4, 2, 311, 12, 16, 2, 33, 75, 43, 2, 296, 4, 86, 320, 35, 534, 19, 263, 2, 2, 4, 2, 33, 89, 78, 12, 66, 16, 4, 360, 7, 4, 58, 316, 334, 11, 4, 2, 43, 645, 662, 8, 257, 85, 2, 42, 2, 2, 83, 68, 2, 15, 36, 165, 2, 278, 36, 69, 2, 780, 8, 106, 14, 2, 2, 18, 6, 22, 12, 215, 28, 610, 40, 6, 87, 326, 23, 2, 21, 23, 22, 12, 272, 40, 57, 31, 11, 4, 22, 47, 6, 2, 51, 9, 170, 23, 595, 116, 595, 2, 13, 191, 79, 638, 89, 2, 14, 9, 8, 106, 607, 624, 35, 534, 6, 227, 7, 129, 113]),\n",
              "       ...,\n",
              "       list([1, 11, 6, 230, 245, 2, 9, 6, 2, 446, 2, 45, 2, 84, 2, 2, 21, 4, 912, 84, 2, 325, 725, 134, 2, 2, 84, 5, 36, 28, 57, 2, 21, 8, 140, 8, 703, 5, 2, 84, 56, 18, 2, 14, 9, 31, 7, 4, 2, 2, 2, 2, 2, 18, 6, 20, 207, 110, 563, 12, 8, 2, 2, 8, 97, 6, 20, 53, 2, 74, 4, 460, 364, 2, 29, 270, 11, 960, 108, 45, 40, 29, 2, 395, 11, 6, 2, 500, 7, 2, 89, 364, 70, 29, 140, 4, 64, 2, 11, 4, 2, 26, 178, 4, 529, 443, 2, 5, 27, 710, 117, 2, 2, 165, 47, 84, 37, 131, 818, 14, 595, 10, 10, 61, 2, 2, 10, 10, 288, 2, 2, 34, 2, 2, 4, 65, 496, 4, 231, 7, 790, 5, 6, 320, 234, 2, 234, 2, 2, 7, 496, 4, 139, 929, 2, 2, 2, 5, 2, 18, 4, 2, 2, 250, 11, 2, 2, 4, 2, 2, 747, 2, 372, 2, 2, 541, 2, 7, 4, 59, 2, 4, 2, 2]),\n",
              "       list([1, 2, 2, 69, 72, 2, 13, 610, 930, 8, 12, 582, 23, 5, 16, 484, 685, 54, 349, 11, 2, 2, 45, 58, 2, 13, 197, 12, 16, 43, 23, 2, 5, 62, 30, 145, 402, 11, 2, 51, 575, 32, 61, 369, 71, 66, 770, 12, 2, 75, 100, 2, 8, 4, 105, 37, 69, 147, 712, 75, 2, 44, 257, 390, 5, 69, 263, 514, 105, 50, 286, 2, 23, 4, 123, 13, 161, 40, 5, 421, 4, 116, 16, 897, 13, 2, 40, 319, 2, 112, 2, 11, 2, 121, 25, 70, 2, 4, 719, 2, 13, 18, 31, 62, 40, 8, 2, 4, 2, 7, 14, 123, 5, 942, 25, 8, 721, 12, 145, 5, 202, 12, 160, 580, 202, 12, 6, 52, 58, 2, 92, 401, 728, 12, 39, 14, 251, 8, 15, 251, 5, 2, 12, 38, 84, 80, 124, 12, 9, 23]),\n",
              "       list([1, 17, 6, 194, 337, 7, 4, 204, 22, 45, 254, 8, 106, 14, 123, 4, 2, 270, 2, 5, 2, 2, 732, 2, 101, 405, 39, 14, 2, 4, 2, 9, 115, 50, 305, 12, 47, 4, 168, 5, 235, 7, 38, 111, 699, 102, 7, 4, 2, 2, 9, 24, 6, 78, 2, 17, 2, 2, 21, 27, 2, 2, 5, 2, 2, 92, 2, 4, 2, 7, 4, 204, 42, 97, 90, 35, 221, 109, 29, 127, 27, 118, 8, 97, 12, 157, 21, 2, 2, 9, 6, 66, 78, 2, 4, 631, 2, 5, 2, 272, 191, 2, 6, 2, 8, 2, 2, 2, 544, 5, 383, 2, 848, 2, 2, 497, 2, 8, 2, 2, 2, 21, 60, 27, 239, 9, 43, 2, 209, 405, 10, 10, 12, 764, 40, 4, 248, 20, 12, 16, 5, 174, 2, 72, 7, 51, 6, 2, 22, 4, 204, 131, 9])],\n",
              "      dtype=object)"
            ]
          },
          "metadata": {},
          "execution_count": 37
        }
      ]
    },
    {
      "cell_type": "markdown",
      "source": [
        "## 2. Padding sequences"
      ],
      "metadata": {
        "id": "LlXM_vhQRpRZ"
      }
    },
    {
      "cell_type": "code",
      "source": [
        "x_train = pad_sequences(x_train, maxlen = max_len, padding = 'post')\n",
        "x_test = pad_sequences(x_test, maxlen = max_len, padding = 'post')"
      ],
      "metadata": {
        "id": "Ev0elFMaRgBU"
      },
      "execution_count": 38,
      "outputs": []
    },
    {
      "cell_type": "code",
      "source": [
        "x_train"
      ],
      "metadata": {
        "colab": {
          "base_uri": "https://localhost:8080/"
        },
        "id": "ot79hTB0TMq_",
        "outputId": "87ce223e-233a-43bf-e0c3-44eab29c797c"
      },
      "execution_count": 39,
      "outputs": [
        {
          "output_type": "execute_result",
          "data": {
            "text/plain": [
              "array([[  5,  25, 100, ...,  19, 178,  32],\n",
              "       [  1, 194,   2, ...,   0,   0,   0],\n",
              "       [  1,  14,  47, ...,   0,   0,   0],\n",
              "       ...,\n",
              "       [  1,  11,   6, ...,   0,   0,   0],\n",
              "       [  1,   2,   2, ...,   0,   0,   0],\n",
              "       [  1,  17,   6, ...,   0,   0,   0]], dtype=int32)"
            ]
          },
          "metadata": {},
          "execution_count": 39
        }
      ]
    },
    {
      "cell_type": "markdown",
      "source": [
        "## 3. Define input layer"
      ],
      "metadata": {
        "id": "7r4P-FsYSa6C"
      }
    },
    {
      "cell_type": "code",
      "source": [
        "input_layer = tf.keras.layers.Input(shape = (max_len,))"
      ],
      "metadata": {
        "id": "wXC0MREcRh9v"
      },
      "execution_count": 40,
      "outputs": []
    },
    {
      "cell_type": "markdown",
      "source": [
        "## 4. Embedding layer"
      ],
      "metadata": {
        "id": "lW2q3O2qTDt6"
      }
    },
    {
      "cell_type": "code",
      "source": [
        "embedding = Embedding(input_dim = vocab_size, output_dim = 256, input_length = max_len)(input_layer)"
      ],
      "metadata": {
        "colab": {
          "base_uri": "https://localhost:8080/"
        },
        "id": "kvIZRjI-TXdj",
        "outputId": "94dcfcab-6723-4df9-ee95-aa48d0d09808"
      },
      "execution_count": 41,
      "outputs": [
        {
          "output_type": "stream",
          "name": "stderr",
          "text": [
            "/usr/local/lib/python3.11/dist-packages/keras/src/layers/core/embedding.py:90: UserWarning: Argument `input_length` is deprecated. Just remove it.\n",
            "  warnings.warn(\n"
          ]
        }
      ]
    },
    {
      "cell_type": "markdown",
      "source": [
        "## 5. LSTM layer"
      ],
      "metadata": {
        "id": "YYjqtFptUeqm"
      }
    },
    {
      "cell_type": "code",
      "source": [
        "lstm_output = LSTM(64, return_sequences = True)(embedding)"
      ],
      "metadata": {
        "id": "DAjGDKGfUXuz"
      },
      "execution_count": 42,
      "outputs": []
    },
    {
      "cell_type": "markdown",
      "source": [
        "## 6. Attention layer"
      ],
      "metadata": {
        "id": "p_Xwh_UfU3zy"
      }
    },
    {
      "cell_type": "code",
      "source": [
        "class AttentionLayer(Layer):\n",
        "  def __init__(self, **kwargs):\n",
        "    super(AttentionLayer, self).__init__(**kwargs)\n",
        "\n",
        "    self.w = tf.keras.layers.Dense(32, activation = 'tanh')\n",
        "    self.v = tf.keras.layers.Dense(1, activation = None)\n",
        "\n",
        "  def call(self, lstm_output):\n",
        "    w = self.w(lstm_output)\n",
        "    v = self.v(w)\n",
        "\n",
        "    attention_scores = tf.nn.softmax(v, axis = 1)\n",
        "    context_vector = tf.reduce_sum(attention_scores*lstm_output, axis = 1)\n",
        "\n",
        "    return context_vector"
      ],
      "metadata": {
        "id": "-6aWFezXU2VG"
      },
      "execution_count": 43,
      "outputs": []
    },
    {
      "cell_type": "code",
      "source": [
        "context_vector = AttentionLayer()(lstm_output)"
      ],
      "metadata": {
        "id": "YVJTAh-pW1SJ"
      },
      "execution_count": 44,
      "outputs": []
    },
    {
      "cell_type": "markdown",
      "source": [
        "## 7. Fully connected layer"
      ],
      "metadata": {
        "id": "L8snq9oiXZOa"
      }
    },
    {
      "cell_type": "code",
      "source": [
        "output = tf.keras.layers.Dense(1, activation = 'sigmoid')(context_vector)"
      ],
      "metadata": {
        "id": "z_A2jJ8XXIrm"
      },
      "execution_count": 45,
      "outputs": []
    },
    {
      "cell_type": "markdown",
      "source": [
        "## 8. Model compilation\n",
        "set loss and objective funtion"
      ],
      "metadata": {
        "id": "ojLhqc96YKzI"
      }
    },
    {
      "cell_type": "code",
      "source": [
        "model = tf.keras.Model(inputs = input_layer, outputs = output)\n",
        "model.compile(loss = 'binary_crossentropy', optimizer = 'adam', metrics = ['accuracy'])"
      ],
      "metadata": {
        "id": "DLfbMinMYJtS"
      },
      "execution_count": 46,
      "outputs": []
    },
    {
      "cell_type": "markdown",
      "source": [
        "## 9. Model Training"
      ],
      "metadata": {
        "id": "sjz5lDdjYxFQ"
      }
    },
    {
      "cell_type": "code",
      "source": [
        "model.fit(x_train,y_train,\n",
        "          batch_size=128,\n",
        "          epochs=10,\n",
        "          validation_data=(x_test,y_test))"
      ],
      "metadata": {
        "colab": {
          "base_uri": "https://localhost:8080/"
        },
        "id": "YWVeQ7gmYmJO",
        "outputId": "2825e39a-07a1-42de-b05b-f409f78f73b6"
      },
      "execution_count": 47,
      "outputs": [
        {
          "output_type": "stream",
          "name": "stdout",
          "text": [
            "Epoch 1/10\n",
            "\u001b[1m196/196\u001b[0m \u001b[32m━━━━━━━━━━━━━━━━━━━━\u001b[0m\u001b[37m\u001b[0m \u001b[1m7s\u001b[0m 23ms/step - accuracy: 0.6829 - loss: 0.5650 - val_accuracy: 0.8476 - val_loss: 0.3451\n",
            "Epoch 2/10\n",
            "\u001b[1m196/196\u001b[0m \u001b[32m━━━━━━━━━━━━━━━━━━━━\u001b[0m\u001b[37m\u001b[0m \u001b[1m4s\u001b[0m 20ms/step - accuracy: 0.8497 - loss: 0.3435 - val_accuracy: 0.8565 - val_loss: 0.3292\n",
            "Epoch 3/10\n",
            "\u001b[1m196/196\u001b[0m \u001b[32m━━━━━━━━━━━━━━━━━━━━\u001b[0m\u001b[37m\u001b[0m \u001b[1m6s\u001b[0m 29ms/step - accuracy: 0.8762 - loss: 0.2997 - val_accuracy: 0.8673 - val_loss: 0.3056\n",
            "Epoch 4/10\n",
            "\u001b[1m196/196\u001b[0m \u001b[32m━━━━━━━━━━━━━━━━━━━━\u001b[0m\u001b[37m\u001b[0m \u001b[1m4s\u001b[0m 21ms/step - accuracy: 0.8836 - loss: 0.2813 - val_accuracy: 0.8618 - val_loss: 0.3189\n",
            "Epoch 5/10\n",
            "\u001b[1m196/196\u001b[0m \u001b[32m━━━━━━━━━━━━━━━━━━━━\u001b[0m\u001b[37m\u001b[0m \u001b[1m6s\u001b[0m 27ms/step - accuracy: 0.8903 - loss: 0.2644 - val_accuracy: 0.8739 - val_loss: 0.2984\n",
            "Epoch 6/10\n",
            "\u001b[1m196/196\u001b[0m \u001b[32m━━━━━━━━━━━━━━━━━━━━\u001b[0m\u001b[37m\u001b[0m \u001b[1m11s\u001b[0m 30ms/step - accuracy: 0.8957 - loss: 0.2539 - val_accuracy: 0.8746 - val_loss: 0.2977\n",
            "Epoch 7/10\n",
            "\u001b[1m196/196\u001b[0m \u001b[32m━━━━━━━━━━━━━━━━━━━━\u001b[0m\u001b[37m\u001b[0m \u001b[1m10s\u001b[0m 29ms/step - accuracy: 0.9003 - loss: 0.2424 - val_accuracy: 0.8641 - val_loss: 0.3234\n",
            "Epoch 8/10\n",
            "\u001b[1m196/196\u001b[0m \u001b[32m━━━━━━━━━━━━━━━━━━━━\u001b[0m\u001b[37m\u001b[0m \u001b[1m5s\u001b[0m 27ms/step - accuracy: 0.9119 - loss: 0.2239 - val_accuracy: 0.8721 - val_loss: 0.3154\n",
            "Epoch 9/10\n",
            "\u001b[1m196/196\u001b[0m \u001b[32m━━━━━━━━━━━━━━━━━━━━\u001b[0m\u001b[37m\u001b[0m \u001b[1m4s\u001b[0m 22ms/step - accuracy: 0.9160 - loss: 0.2118 - val_accuracy: 0.8677 - val_loss: 0.3260\n",
            "Epoch 10/10\n",
            "\u001b[1m196/196\u001b[0m \u001b[32m━━━━━━━━━━━━━━━━━━━━\u001b[0m\u001b[37m\u001b[0m \u001b[1m6s\u001b[0m 33ms/step - accuracy: 0.9241 - loss: 0.1896 - val_accuracy: 0.8662 - val_loss: 0.3330\n"
          ]
        },
        {
          "output_type": "execute_result",
          "data": {
            "text/plain": [
              "<keras.src.callbacks.history.History at 0x796c3392cd90>"
            ]
          },
          "metadata": {},
          "execution_count": 47
        }
      ]
    },
    {
      "cell_type": "markdown",
      "source": [
        "## 10. Testing"
      ],
      "metadata": {
        "id": "o_IV0f0KZF7v"
      }
    },
    {
      "cell_type": "code",
      "source": [
        "test_loss, test_acc = model.evaluate(x_test, y_test)\n",
        "print('Test Loss:', test_loss)\n",
        "print('Test Accuracy:', test_acc)"
      ],
      "metadata": {
        "colab": {
          "base_uri": "https://localhost:8080/"
        },
        "id": "EJqQcOb2Y7Oi",
        "outputId": "a57f4f77-b609-4cfa-cb70-2c9d558faf58"
      },
      "execution_count": 48,
      "outputs": [
        {
          "output_type": "stream",
          "name": "stdout",
          "text": [
            "\u001b[1m782/782\u001b[0m \u001b[32m━━━━━━━━━━━━━━━━━━━━\u001b[0m\u001b[37m\u001b[0m \u001b[1m6s\u001b[0m 7ms/step - accuracy: 0.8625 - loss: 0.3400\n",
            "Test Loss: 0.33298105001449585\n",
            "Test Accuracy: 0.866159975528717\n"
          ]
        }
      ]
    },
    {
      "cell_type": "code",
      "source": [
        "lstm_metrics = (test_loss,test_acc)"
      ],
      "metadata": {
        "id": "qp_WKoUTd5QX"
      },
      "execution_count": 49,
      "outputs": []
    },
    {
      "cell_type": "markdown",
      "source": [
        "# GRU with Attention\n",
        "\n",
        "\n",
        "Implementing GRU with Attention\n",
        "\n",
        "> only model architecture needs to be chnages"
      ],
      "metadata": {
        "id": "yz5O0IHJZ8mw"
      }
    },
    {
      "cell_type": "code",
      "source": [
        "from tensorflow.keras.layers import GRU"
      ],
      "metadata": {
        "id": "eArnX06razLy"
      },
      "execution_count": 50,
      "outputs": []
    },
    {
      "cell_type": "markdown",
      "source": [
        "## Model"
      ],
      "metadata": {
        "id": "VEHOaqHtbH7A"
      }
    },
    {
      "cell_type": "code",
      "source": [
        "input_layer = tf.keras.layers.Input(shape = (max_len,))\n",
        "embedding = Embedding(input_dim = vocab_size, output_dim = 256, input_length = max_len)(input_layer)\n",
        "GRU_output = GRU(64, return_sequences = True)(embedding)\n",
        "context_vector = AttentionLayer()(GRU_output)\n",
        "output = tf.keras.layers.Dense(1, activation = 'sigmoid')(context_vector)"
      ],
      "metadata": {
        "id": "zxvdPgj_akwn"
      },
      "execution_count": 51,
      "outputs": []
    },
    {
      "cell_type": "markdown",
      "source": [
        "## Model compilation"
      ],
      "metadata": {
        "id": "m17ZQg4SbOrI"
      }
    },
    {
      "cell_type": "code",
      "source": [
        "model = tf.keras.Model(inputs = input_layer, outputs = output)\n",
        "model.compile(loss = 'binary_crossentropy', optimizer = 'adam', metrics = ['accuracy'])"
      ],
      "metadata": {
        "id": "cF-pDa0ybMVu"
      },
      "execution_count": 52,
      "outputs": []
    },
    {
      "cell_type": "markdown",
      "source": [
        "## Model training"
      ],
      "metadata": {
        "id": "URghmTsmbX5K"
      }
    },
    {
      "cell_type": "code",
      "source": [
        "model.fit(x_train,y_train,\n",
        "          batch_size=128,\n",
        "          epochs=10,\n",
        "          validation_data=(x_test,y_test))"
      ],
      "metadata": {
        "colab": {
          "base_uri": "https://localhost:8080/"
        },
        "id": "Z3RC-cSzbaCp",
        "outputId": "a763b17f-5712-4dcb-b8d5-942aad465ac6"
      },
      "execution_count": 53,
      "outputs": [
        {
          "output_type": "stream",
          "name": "stdout",
          "text": [
            "Epoch 1/10\n",
            "\u001b[1m196/196\u001b[0m \u001b[32m━━━━━━━━━━━━━━━━━━━━\u001b[0m\u001b[37m\u001b[0m \u001b[1m9s\u001b[0m 31ms/step - accuracy: 0.6864 - loss: 0.5655 - val_accuracy: 0.8490 - val_loss: 0.3463\n",
            "Epoch 2/10\n",
            "\u001b[1m196/196\u001b[0m \u001b[32m━━━━━━━━━━━━━━━━━━━━\u001b[0m\u001b[37m\u001b[0m \u001b[1m5s\u001b[0m 26ms/step - accuracy: 0.8624 - loss: 0.3238 - val_accuracy: 0.8635 - val_loss: 0.3149\n",
            "Epoch 3/10\n",
            "\u001b[1m196/196\u001b[0m \u001b[32m━━━━━━━━━━━━━━━━━━━━\u001b[0m\u001b[37m\u001b[0m \u001b[1m9s\u001b[0m 22ms/step - accuracy: 0.8695 - loss: 0.3027 - val_accuracy: 0.8599 - val_loss: 0.3222\n",
            "Epoch 4/10\n",
            "\u001b[1m196/196\u001b[0m \u001b[32m━━━━━━━━━━━━━━━━━━━━\u001b[0m\u001b[37m\u001b[0m \u001b[1m7s\u001b[0m 34ms/step - accuracy: 0.8860 - loss: 0.2753 - val_accuracy: 0.8696 - val_loss: 0.3097\n",
            "Epoch 5/10\n",
            "\u001b[1m196/196\u001b[0m \u001b[32m━━━━━━━━━━━━━━━━━━━━\u001b[0m\u001b[37m\u001b[0m \u001b[1m9s\u001b[0m 28ms/step - accuracy: 0.8930 - loss: 0.2628 - val_accuracy: 0.8744 - val_loss: 0.2978\n",
            "Epoch 6/10\n",
            "\u001b[1m196/196\u001b[0m \u001b[32m━━━━━━━━━━━━━━━━━━━━\u001b[0m\u001b[37m\u001b[0m \u001b[1m9s\u001b[0m 21ms/step - accuracy: 0.9000 - loss: 0.2454 - val_accuracy: 0.8706 - val_loss: 0.3099\n",
            "Epoch 7/10\n",
            "\u001b[1m196/196\u001b[0m \u001b[32m━━━━━━━━━━━━━━━━━━━━\u001b[0m\u001b[37m\u001b[0m \u001b[1m4s\u001b[0m 22ms/step - accuracy: 0.9019 - loss: 0.2440 - val_accuracy: 0.8712 - val_loss: 0.3076\n",
            "Epoch 8/10\n",
            "\u001b[1m196/196\u001b[0m \u001b[32m━━━━━━━━━━━━━━━━━━━━\u001b[0m\u001b[37m\u001b[0m \u001b[1m4s\u001b[0m 19ms/step - accuracy: 0.9094 - loss: 0.2232 - val_accuracy: 0.8541 - val_loss: 0.3524\n",
            "Epoch 9/10\n",
            "\u001b[1m196/196\u001b[0m \u001b[32m━━━━━━━━━━━━━━━━━━━━\u001b[0m\u001b[37m\u001b[0m \u001b[1m4s\u001b[0m 20ms/step - accuracy: 0.9135 - loss: 0.2181 - val_accuracy: 0.8690 - val_loss: 0.3148\n",
            "Epoch 10/10\n",
            "\u001b[1m196/196\u001b[0m \u001b[32m━━━━━━━━━━━━━━━━━━━━\u001b[0m\u001b[37m\u001b[0m \u001b[1m6s\u001b[0m 23ms/step - accuracy: 0.9244 - loss: 0.2031 - val_accuracy: 0.8639 - val_loss: 0.3328\n"
          ]
        },
        {
          "output_type": "execute_result",
          "data": {
            "text/plain": [
              "<keras.src.callbacks.history.History at 0x796b9e48b410>"
            ]
          },
          "metadata": {},
          "execution_count": 53
        }
      ]
    },
    {
      "cell_type": "markdown",
      "source": [
        "## Testing"
      ],
      "metadata": {
        "id": "-_2h2gZqbmLD"
      }
    },
    {
      "cell_type": "code",
      "source": [
        "test_loss, test_acc = model.evaluate(x_test, y_test)\n",
        "print('Test Loss:', test_loss)\n",
        "print('Test Accuracy:', test_acc)"
      ],
      "metadata": {
        "colab": {
          "base_uri": "https://localhost:8080/"
        },
        "id": "6z2FuNI3brbw",
        "outputId": "81df1ee0-435f-4a4d-819b-2a8eb06e0e02"
      },
      "execution_count": 54,
      "outputs": [
        {
          "output_type": "stream",
          "name": "stdout",
          "text": [
            "\u001b[1m782/782\u001b[0m \u001b[32m━━━━━━━━━━━━━━━━━━━━\u001b[0m\u001b[37m\u001b[0m \u001b[1m5s\u001b[0m 6ms/step - accuracy: 0.8604 - loss: 0.3411\n",
            "Test Loss: 0.33281418681144714\n",
            "Test Accuracy: 0.8638799786567688\n"
          ]
        }
      ]
    },
    {
      "cell_type": "code",
      "source": [
        "gru_metrics = (test_loss,test_acc)"
      ],
      "metadata": {
        "id": "oK69l2GbeEt_"
      },
      "execution_count": 55,
      "outputs": []
    },
    {
      "cell_type": "markdown",
      "source": [
        "# BiLSTM with Attention"
      ],
      "metadata": {
        "id": "yOJcCZdjbwCs"
      }
    },
    {
      "cell_type": "code",
      "source": [
        "from tensorflow.keras.layers import Bidirectional"
      ],
      "metadata": {
        "id": "UCzRbWT8b69C"
      },
      "execution_count": 56,
      "outputs": []
    },
    {
      "cell_type": "markdown",
      "source": [
        "## Model"
      ],
      "metadata": {
        "id": "4-XCN6ZRcK8E"
      }
    },
    {
      "cell_type": "code",
      "source": [
        "input_layer = tf.keras.layers.Input(shape=(max_len,))\n",
        "embedding = Embedding(input_dim=vocab_size, output_dim=256, input_length=max_len)(input_layer)\n",
        "# Using Bidirectional LSTM\n",
        "bilstm_output = Bidirectional(LSTM(64, return_sequences=True))(embedding)\n",
        "context_vector = AttentionLayer()(bilstm_output)\n",
        "output = tf.keras.layers.Dense(1, activation='sigmoid')(context_vector)"
      ],
      "metadata": {
        "id": "FOOqev0fcKIs"
      },
      "execution_count": 57,
      "outputs": []
    },
    {
      "cell_type": "markdown",
      "source": [
        "## Model compilation"
      ],
      "metadata": {
        "id": "_7BeDWN_cgbg"
      }
    },
    {
      "cell_type": "code",
      "source": [
        "model = tf.keras.Model(inputs = input_layer, outputs = output)\n",
        "model.compile(loss = 'binary_crossentropy', optimizer = 'adam', metrics = ['accuracy'])"
      ],
      "metadata": {
        "id": "gVvCkJbpclPc"
      },
      "execution_count": 58,
      "outputs": []
    },
    {
      "cell_type": "markdown",
      "source": [
        "## Training"
      ],
      "metadata": {
        "id": "oQWDdd5Cc-Il"
      }
    },
    {
      "cell_type": "code",
      "source": [
        "model.fit(x_train,y_train,\n",
        "          batch_size=128,\n",
        "          epochs=10,\n",
        "          validation_data=(x_test,y_test))"
      ],
      "metadata": {
        "colab": {
          "base_uri": "https://localhost:8080/"
        },
        "id": "zQKSSGledAMq",
        "outputId": "039e28aa-040c-4d4d-f99a-997fb5c869f6"
      },
      "execution_count": 59,
      "outputs": [
        {
          "output_type": "stream",
          "name": "stdout",
          "text": [
            "Epoch 1/10\n",
            "\u001b[1m196/196\u001b[0m \u001b[32m━━━━━━━━━━━━━━━━━━━━\u001b[0m\u001b[37m\u001b[0m \u001b[1m13s\u001b[0m 44ms/step - accuracy: 0.6931 - loss: 0.5497 - val_accuracy: 0.8528 - val_loss: 0.3366\n",
            "Epoch 2/10\n",
            "\u001b[1m196/196\u001b[0m \u001b[32m━━━━━━━━━━━━━━━━━━━━\u001b[0m\u001b[37m\u001b[0m \u001b[1m10s\u001b[0m 42ms/step - accuracy: 0.8570 - loss: 0.3308 - val_accuracy: 0.8638 - val_loss: 0.3160\n",
            "Epoch 3/10\n",
            "\u001b[1m196/196\u001b[0m \u001b[32m━━━━━━━━━━━━━━━━━━━━\u001b[0m\u001b[37m\u001b[0m \u001b[1m8s\u001b[0m 42ms/step - accuracy: 0.8702 - loss: 0.3063 - val_accuracy: 0.8703 - val_loss: 0.3024\n",
            "Epoch 4/10\n",
            "\u001b[1m196/196\u001b[0m \u001b[32m━━━━━━━━━━━━━━━━━━━━\u001b[0m\u001b[37m\u001b[0m \u001b[1m8s\u001b[0m 39ms/step - accuracy: 0.8858 - loss: 0.2779 - val_accuracy: 0.8757 - val_loss: 0.2951\n",
            "Epoch 5/10\n",
            "\u001b[1m196/196\u001b[0m \u001b[32m━━━━━━━━━━━━━━━━━━━━\u001b[0m\u001b[37m\u001b[0m \u001b[1m8s\u001b[0m 40ms/step - accuracy: 0.8982 - loss: 0.2529 - val_accuracy: 0.8759 - val_loss: 0.2936\n",
            "Epoch 6/10\n",
            "\u001b[1m196/196\u001b[0m \u001b[32m━━━━━━━━━━━━━━━━━━━━\u001b[0m\u001b[37m\u001b[0m \u001b[1m8s\u001b[0m 40ms/step - accuracy: 0.9002 - loss: 0.2431 - val_accuracy: 0.8692 - val_loss: 0.3026\n",
            "Epoch 7/10\n",
            "\u001b[1m196/196\u001b[0m \u001b[32m━━━━━━━━━━━━━━━━━━━━\u001b[0m\u001b[37m\u001b[0m \u001b[1m10s\u001b[0m 41ms/step - accuracy: 0.9094 - loss: 0.2225 - val_accuracy: 0.8719 - val_loss: 0.3049\n",
            "Epoch 8/10\n",
            "\u001b[1m196/196\u001b[0m \u001b[32m━━━━━━━━━━━━━━━━━━━━\u001b[0m\u001b[37m\u001b[0m \u001b[1m10s\u001b[0m 41ms/step - accuracy: 0.9189 - loss: 0.2096 - val_accuracy: 0.8689 - val_loss: 0.3201\n",
            "Epoch 9/10\n",
            "\u001b[1m196/196\u001b[0m \u001b[32m━━━━━━━━━━━━━━━━━━━━\u001b[0m\u001b[37m\u001b[0m \u001b[1m10s\u001b[0m 41ms/step - accuracy: 0.9278 - loss: 0.1876 - val_accuracy: 0.8691 - val_loss: 0.3253\n",
            "Epoch 10/10\n",
            "\u001b[1m196/196\u001b[0m \u001b[32m━━━━━━━━━━━━━━━━━━━━\u001b[0m\u001b[37m\u001b[0m \u001b[1m8s\u001b[0m 41ms/step - accuracy: 0.9333 - loss: 0.1765 - val_accuracy: 0.8652 - val_loss: 0.3498\n"
          ]
        },
        {
          "output_type": "execute_result",
          "data": {
            "text/plain": [
              "<keras.src.callbacks.history.History at 0x796b9f404a90>"
            ]
          },
          "metadata": {},
          "execution_count": 59
        }
      ]
    },
    {
      "cell_type": "markdown",
      "source": [
        "## Testing"
      ],
      "metadata": {
        "id": "q-IQgfUUdIE5"
      }
    },
    {
      "cell_type": "code",
      "source": [
        "test_loss, test_acc = model.evaluate(x_test, y_test)\n",
        "print('Test Loss:', test_loss)\n",
        "print('Test Accuracy:', test_acc)"
      ],
      "metadata": {
        "colab": {
          "base_uri": "https://localhost:8080/"
        },
        "id": "hR1SmsCbdJ99",
        "outputId": "740815e4-a068-4049-d822-430f898c3e1e"
      },
      "execution_count": 60,
      "outputs": [
        {
          "output_type": "stream",
          "name": "stdout",
          "text": [
            "\u001b[1m782/782\u001b[0m \u001b[32m━━━━━━━━━━━━━━━━━━━━\u001b[0m\u001b[37m\u001b[0m \u001b[1m7s\u001b[0m 9ms/step - accuracy: 0.8622 - loss: 0.3585\n",
            "Test Loss: 0.34975922107696533\n",
            "Test Accuracy: 0.8652399778366089\n"
          ]
        }
      ]
    },
    {
      "cell_type": "code",
      "source": [
        "bilstm_metrics = (test_loss,test_acc)"
      ],
      "metadata": {
        "id": "QofkPeEPeIzb"
      },
      "execution_count": 61,
      "outputs": []
    },
    {
      "cell_type": "markdown",
      "source": [
        "## BiGRU with Attention"
      ],
      "metadata": {
        "id": "tBI5XUBdaWXs"
      }
    },
    {
      "cell_type": "markdown",
      "source": [
        "## Model"
      ],
      "metadata": {
        "id": "CiEzhZOwdZbr"
      }
    },
    {
      "cell_type": "code",
      "source": [
        "input_layer = tf.keras.layers.Input(shape=(max_len,))\n",
        "embedding = Embedding(input_dim=vocab_size, output_dim=256, input_length=max_len)(input_layer)\n",
        "# Using Bidirectional GRU\n",
        "bigru_output = Bidirectional(GRU(64, return_sequences=True))(embedding)\n",
        "context_vector = AttentionLayer()(bigru_output)\n",
        "output = tf.keras.layers.Dense(1, activation='sigmoid')(context_vector)"
      ],
      "metadata": {
        "id": "9OFMUHjpZS-3"
      },
      "execution_count": 62,
      "outputs": []
    },
    {
      "cell_type": "markdown",
      "source": [
        "## Model compilation"
      ],
      "metadata": {
        "id": "laa-42hadif6"
      }
    },
    {
      "cell_type": "code",
      "source": [
        "model = tf.keras.Model(inputs = input_layer, outputs = output)\n",
        "model.compile(loss = 'binary_crossentropy', optimizer = 'adam', metrics = ['accuracy'])"
      ],
      "metadata": {
        "id": "DluTNouSdh8B"
      },
      "execution_count": 63,
      "outputs": []
    },
    {
      "cell_type": "markdown",
      "source": [
        "## Training"
      ],
      "metadata": {
        "id": "vRSbdDABdn_d"
      }
    },
    {
      "cell_type": "code",
      "source": [
        "model.fit(x_train,y_train,\n",
        "          batch_size=128,\n",
        "          epochs=10,\n",
        "          validation_data=(x_test,y_test))"
      ],
      "metadata": {
        "colab": {
          "base_uri": "https://localhost:8080/"
        },
        "id": "SuHyEEmmdmdS",
        "outputId": "9d796e30-baf0-4507-cdc1-0eda9b5af1f3"
      },
      "execution_count": 64,
      "outputs": [
        {
          "output_type": "stream",
          "name": "stdout",
          "text": [
            "Epoch 1/10\n",
            "\u001b[1m196/196\u001b[0m \u001b[32m━━━━━━━━━━━━━━━━━━━━\u001b[0m\u001b[37m\u001b[0m \u001b[1m11s\u001b[0m 41ms/step - accuracy: 0.6778 - loss: 0.5518 - val_accuracy: 0.8612 - val_loss: 0.3222\n",
            "Epoch 2/10\n",
            "\u001b[1m196/196\u001b[0m \u001b[32m━━━━━━━━━━━━━━━━━━━━\u001b[0m\u001b[37m\u001b[0m \u001b[1m10s\u001b[0m 39ms/step - accuracy: 0.8677 - loss: 0.3067 - val_accuracy: 0.8730 - val_loss: 0.2996\n",
            "Epoch 3/10\n",
            "\u001b[1m196/196\u001b[0m \u001b[32m━━━━━━━━━━━━━━━━━━━━\u001b[0m\u001b[37m\u001b[0m \u001b[1m10s\u001b[0m 39ms/step - accuracy: 0.8837 - loss: 0.2796 - val_accuracy: 0.8693 - val_loss: 0.3061\n",
            "Epoch 4/10\n",
            "\u001b[1m196/196\u001b[0m \u001b[32m━━━━━━━━━━━━━━━━━━━━\u001b[0m\u001b[37m\u001b[0m \u001b[1m7s\u001b[0m 38ms/step - accuracy: 0.8938 - loss: 0.2597 - val_accuracy: 0.8756 - val_loss: 0.2967\n",
            "Epoch 5/10\n",
            "\u001b[1m196/196\u001b[0m \u001b[32m━━━━━━━━━━━━━━━━━━━━\u001b[0m\u001b[37m\u001b[0m \u001b[1m8s\u001b[0m 38ms/step - accuracy: 0.9072 - loss: 0.2380 - val_accuracy: 0.8773 - val_loss: 0.2974\n",
            "Epoch 6/10\n",
            "\u001b[1m196/196\u001b[0m \u001b[32m━━━━━━━━━━━━━━━━━━━━\u001b[0m\u001b[37m\u001b[0m \u001b[1m10s\u001b[0m 39ms/step - accuracy: 0.9080 - loss: 0.2309 - val_accuracy: 0.8706 - val_loss: 0.3064\n",
            "Epoch 7/10\n",
            "\u001b[1m196/196\u001b[0m \u001b[32m━━━━━━━━━━━━━━━━━━━━\u001b[0m\u001b[37m\u001b[0m \u001b[1m10s\u001b[0m 39ms/step - accuracy: 0.9156 - loss: 0.2170 - val_accuracy: 0.8732 - val_loss: 0.3082\n",
            "Epoch 8/10\n",
            "\u001b[1m196/196\u001b[0m \u001b[32m━━━━━━━━━━━━━━━━━━━━\u001b[0m\u001b[37m\u001b[0m \u001b[1m8s\u001b[0m 40ms/step - accuracy: 0.9174 - loss: 0.2023 - val_accuracy: 0.8704 - val_loss: 0.3198\n",
            "Epoch 9/10\n",
            "\u001b[1m196/196\u001b[0m \u001b[32m━━━━━━━━━━━━━━━━━━━━\u001b[0m\u001b[37m\u001b[0m \u001b[1m10s\u001b[0m 40ms/step - accuracy: 0.9266 - loss: 0.1898 - val_accuracy: 0.8663 - val_loss: 0.3256\n",
            "Epoch 10/10\n",
            "\u001b[1m196/196\u001b[0m \u001b[32m━━━━━━━━━━━━━━━━━━━━\u001b[0m\u001b[37m\u001b[0m \u001b[1m8s\u001b[0m 40ms/step - accuracy: 0.9320 - loss: 0.1749 - val_accuracy: 0.8650 - val_loss: 0.3427\n"
          ]
        },
        {
          "output_type": "execute_result",
          "data": {
            "text/plain": [
              "<keras.src.callbacks.history.History at 0x796b9d10d350>"
            ]
          },
          "metadata": {},
          "execution_count": 64
        }
      ]
    },
    {
      "cell_type": "markdown",
      "source": [
        "## Testing"
      ],
      "metadata": {
        "id": "0LybsJSAdu3Y"
      }
    },
    {
      "cell_type": "code",
      "source": [
        "test_loss, test_acc = model.evaluate(x_test, y_test)\n",
        "print('Test Loss:', test_loss)\n",
        "print('Test Accuracy:', test_acc)"
      ],
      "metadata": {
        "colab": {
          "base_uri": "https://localhost:8080/"
        },
        "id": "H1zPIxlpdpEO",
        "outputId": "729a85b1-ed4b-4637-a35b-01c8c109a984"
      },
      "execution_count": 65,
      "outputs": [
        {
          "output_type": "stream",
          "name": "stdout",
          "text": [
            "\u001b[1m782/782\u001b[0m \u001b[32m━━━━━━━━━━━━━━━━━━━━\u001b[0m\u001b[37m\u001b[0m \u001b[1m6s\u001b[0m 8ms/step - accuracy: 0.8621 - loss: 0.3502\n",
            "Test Loss: 0.34269294142723083\n",
            "Test Accuracy: 0.8650400042533875\n"
          ]
        }
      ]
    },
    {
      "cell_type": "code",
      "source": [
        "bigru_metrics = (test_loss,test_acc)"
      ],
      "metadata": {
        "id": "sPO-1KUIeNLu"
      },
      "execution_count": 66,
      "outputs": []
    },
    {
      "cell_type": "markdown",
      "source": [
        "# Summary"
      ],
      "metadata": {
        "id": "yXGJ49kceuO6"
      }
    },
    {
      "cell_type": "code",
      "source": [
        "metrics = {\"LSTM\": lstm_metrics,\n",
        "           \"GRU\": gru_metrics,\n",
        "           \"BiLSTM\": bilstm_metrics,\n",
        "           \"BiGRU\": bigru_metrics}"
      ],
      "metadata": {
        "id": "hd_VUjZbexTf"
      },
      "execution_count": 67,
      "outputs": []
    },
    {
      "cell_type": "markdown",
      "source": [
        "## Visualize"
      ],
      "metadata": {
        "id": "BsIh_RAnfM1l"
      }
    },
    {
      "cell_type": "code",
      "source": [
        "# prompt: visualize metrics as barplots, annotate\n",
        "\n",
        "import matplotlib.pyplot as plt\n",
        "\n",
        "\n",
        "model_names = list(metrics.keys())\n",
        "loss_values = [m[0] for m in metrics.values()]\n",
        "accuracy_values = [m[1] for m in metrics.values()]\n",
        "\n",
        "# Create bar plot for loss\n",
        "plt.figure(figsize=(10, 5))\n",
        "plt.bar(model_names, loss_values)\n",
        "plt.xlabel(\"Models\")\n",
        "plt.ylabel(\"Loss\")\n",
        "plt.title(\"Loss Comparison for Different Models\")\n",
        "\n",
        "# Annotate bars with loss values\n",
        "for i, v in enumerate(loss_values):\n",
        "  plt.text(i, v, str(round(v, 4)), ha='center', va='bottom')\n",
        "\n",
        "plt.show()\n",
        "\n",
        "# Create bar plot for accuracy\n",
        "plt.figure(figsize=(10, 5))\n",
        "plt.bar(model_names, accuracy_values)\n",
        "plt.xlabel(\"Models\")\n",
        "plt.ylabel(\"Accuracy\")\n",
        "plt.title(\"Accuracy Comparison for Different Models\")\n",
        "\n",
        "# Annotate bars with accuracy values\n",
        "for i, v in enumerate(accuracy_values):\n",
        "  plt.text(i, v, str(round(v, 4)), ha='center', va='bottom')\n",
        "\n",
        "plt.show()\n",
        "\n"
      ],
      "metadata": {
        "colab": {
          "base_uri": "https://localhost:8080/",
          "height": 957
        },
        "id": "6_LorPZYgApk",
        "outputId": "36bb29fa-ac0a-4985-95f9-f8ed4d958722"
      },
      "execution_count": 70,
      "outputs": [
        {
          "output_type": "display_data",
          "data": {
            "text/plain": [
              "<Figure size 1000x500 with 1 Axes>"
            ],
            "image/png": "[encoded data removed]"
          },
          "metadata": {}
        },
        {
          "output_type": "display_data",
          "data": {
            "text/plain": [
              "<Figure size 1000x500 with 1 Axes>"
            ],
            "image/png": "[encoded data removed]"
          },
          "metadata": {}
        }
      ]
    },
    {
      "cell_type": "markdown",
      "source": [
        "# Export as pdf"
      ],
      "metadata": {
        "id": "yEatD5pKfHhu"
      }
    },
    {
      "cell_type": "code",
      "source": [
        "\n",
        "\n",
        "import os\n",
        "\n",
        "def convert_ipynb_to_pdf(ipynb_path, pdf_path):\n",
        "    \"\"\"Converts an ipynb file to a PDF using nbexport.\n",
        "\n",
        "    Args:\n",
        "        ipynb_path: Path to the ipynb file.\n",
        "        pdf_path: Path to save the PDF file.\n",
        "    \"\"\"\n",
        "\n",
        "    os.system(f\"nbexport '{ipynb_path}' --to pdf --output '{pdf_path}'\")\n",
        "\n",
        "# Example usage: replace with your file path\n",
        "ipynb_file = 'file.ipynb'\n",
        "pdf_file = 'exported_notebook.pdf'\n",
        "\n",
        "convert_ipynb_to_pdf(ipynb_file, pdf_file)\n",
        "\n",
        "# Download the pdf file\n",
        "from google.colab import files\n",
        "files.download(pdf_file)\n"
      ],
      "metadata": {
        "colab": {
          "base_uri": "https://localhost:8080/",
          "height": 298
        },
        "id": "CYefftXZgdvz",
        "outputId": "fabe49f4-c179-40d7-e1dc-dbed20753167"
      },
      "execution_count": 73,
      "outputs": [
        {
          "output_type": "error",
          "ename": "FileNotFoundError",
          "evalue": "Cannot find file: exported_notebook.pdf",
          "traceback": [
            "\u001b[0;31m---------------------------------------------------------------------------\u001b[0m",
            "\u001b[0;31mFileNotFoundError\u001b[0m                         Traceback (most recent call last)",
            "\u001b[0;32m<ipython-input-73-b68fd95f3fc7>\u001b[0m in \u001b[0;36m<cell line: 0>\u001b[0;34m()\u001b[0m\n\u001b[1;32m     19\u001b[0m \u001b[0;31m# Download the pdf file\u001b[0m\u001b[0;34m\u001b[0m\u001b[0;34m\u001b[0m\u001b[0m\n\u001b[1;32m     20\u001b[0m \u001b[0;32mfrom\u001b[0m \u001b[0mgoogle\u001b[0m\u001b[0;34m.\u001b[0m\u001b[0mcolab\u001b[0m \u001b[0;32mimport\u001b[0m \u001b[0mfiles\u001b[0m\u001b[0;34m\u001b[0m\u001b[0;34m\u001b[0m\u001b[0m\n\u001b[0;32m---> 21\u001b[0;31m \u001b[0mfiles\u001b[0m\u001b[0;34m.\u001b[0m\u001b[0mdownload\u001b[0m\u001b[0;34m(\u001b[0m\u001b[0mpdf_file\u001b[0m\u001b[0;34m)\u001b[0m\u001b[0;34m\u001b[0m\u001b[0;34m\u001b[0m\u001b[0m\n\u001b[0m",
            "\u001b[0;32m/usr/local/lib/python3.11/dist-packages/google/colab/files.py\u001b[0m in \u001b[0;36mdownload\u001b[0;34m(filename)\u001b[0m\n\u001b[1;32m    231\u001b[0m   \u001b[0;32mif\u001b[0m \u001b[0;32mnot\u001b[0m \u001b[0m_os\u001b[0m\u001b[0;34m.\u001b[0m\u001b[0mpath\u001b[0m\u001b[0;34m.\u001b[0m\u001b[0mexists\u001b[0m\u001b[0;34m(\u001b[0m\u001b[0mfilename\u001b[0m\u001b[0;34m)\u001b[0m\u001b[0;34m:\u001b[0m\u001b[0;34m\u001b[0m\u001b[0;34m\u001b[0m\u001b[0m\n\u001b[1;32m    232\u001b[0m     \u001b[0mmsg\u001b[0m \u001b[0;34m=\u001b[0m \u001b[0;34m'Cannot find file: {}'\u001b[0m\u001b[0;34m.\u001b[0m\u001b[0mformat\u001b[0m\u001b[0;34m(\u001b[0m\u001b[0mfilename\u001b[0m\u001b[0;34m)\u001b[0m\u001b[0;34m\u001b[0m\u001b[0;34m\u001b[0m\u001b[0m\n\u001b[0;32m--> 233\u001b[0;31m     \u001b[0;32mraise\u001b[0m \u001b[0mFileNotFoundError\u001b[0m\u001b[0;34m(\u001b[0m\u001b[0mmsg\u001b[0m\u001b[0;34m)\u001b[0m  \u001b[0;31m# pylint: disable=undefined-variable\u001b[0m\u001b[0;34m\u001b[0m\u001b[0;34m\u001b[0m\u001b[0m\n\u001b[0m\u001b[1;32m    234\u001b[0m \u001b[0;34m\u001b[0m\u001b[0m\n\u001b[1;32m    235\u001b[0m   \u001b[0mcomm_manager\u001b[0m \u001b[0;34m=\u001b[0m \u001b[0m_IPython\u001b[0m\u001b[0;34m.\u001b[0m\u001b[0mget_ipython\u001b[0m\u001b[0;34m(\u001b[0m\u001b[0;34m)\u001b[0m\u001b[0;34m.\u001b[0m\u001b[0mkernel\u001b[0m\u001b[0;34m.\u001b[0m\u001b[0mcomm_manager\u001b[0m\u001b[0;34m\u001b[0m\u001b[0;34m\u001b[0m\u001b[0m\n",
            "\u001b[0;31mFileNotFoundError\u001b[0m: Cannot find file: exported_notebook.pdf"
          ]
        }
      ]
    },
    {
      "cell_type": "code",
      "source": [
        "\n"
      ],
      "metadata": {
        "colab": {
          "base_uri": "https://localhost:8080/"
        },
        "id": "XcoM-KmMfL-s",
        "outputId": "1cd9f793-4edf-434f-fed2-faed966df8ed"
      },
      "execution_count": 72,
      "outputs": [
        {
          "output_type": "stream",
          "name": "stdout",
          "text": [
            "[NbConvertApp] Converting notebook file.ipynb to pdf\n",
            "[NbConvertApp] ERROR | Error while converting 'file.ipynb'\n",
            "Traceback (most recent call last):\n",
            "  File \"/usr/local/lib/python3.11/dist-packages/nbconvert/nbconvertapp.py\", line 487, in export_single_notebook\n",
            "    output, resources = self.exporter.from_filename(\n",
            "                        ^^^^^^^^^^^^^^^^^^^^^^^^^^^^\n",
            "  File \"/usr/local/lib/python3.11/dist-packages/nbconvert/exporters/templateexporter.py\", line 390, in from_filename\n",
            "    return super().from_filename(filename, resources, **kw)  # type:ignore[return-value]\n",
            "           ^^^^^^^^^^^^^^^^^^^^^^^^^^^^^^^^^^^^^^^^^^^^^^^^\n",
            "  File \"/usr/local/lib/python3.11/dist-packages/nbconvert/exporters/exporter.py\", line 201, in from_filename\n",
            "    return self.from_file(f, resources=resources, **kw)\n",
            "           ^^^^^^^^^^^^^^^^^^^^^^^^^^^^^^^^^^^^^^^^^^^^\n",
            "  File \"/usr/local/lib/python3.11/dist-packages/nbconvert/exporters/templateexporter.py\", line 396, in from_file\n",
            "    return super().from_file(file_stream, resources, **kw)  # type:ignore[return-value]\n",
            "           ^^^^^^^^^^^^^^^^^^^^^^^^^^^^^^^^^^^^^^^^^^^^^^^\n",
            "  File \"/usr/local/lib/python3.11/dist-packages/nbconvert/exporters/exporter.py\", line 220, in from_file\n",
            "    return self.from_notebook_node(\n",
            "           ^^^^^^^^^^^^^^^^^^^^^^^^\n",
            "  File \"/usr/local/lib/python3.11/dist-packages/nbconvert/exporters/pdf.py\", line 184, in from_notebook_node\n",
            "    latex, resources = super().from_notebook_node(nb, resources=resources, **kw)\n",
            "                       ^^^^^^^^^^^^^^^^^^^^^^^^^^^^^^^^^^^^^^^^^^^^^^^^^^^^^^^^^\n",
            "  File \"/usr/local/lib/python3.11/dist-packages/nbconvert/exporters/latex.py\", line 92, in from_notebook_node\n",
            "    return super().from_notebook_node(nb, resources, **kw)\n",
            "           ^^^^^^^^^^^^^^^^^^^^^^^^^^^^^^^^^^^^^^^^^^^^^^^\n",
            "  File \"/usr/local/lib/python3.11/dist-packages/nbconvert/exporters/templateexporter.py\", line 429, in from_notebook_node\n",
            "    output = self.template.render(nb=nb_copy, resources=resources)\n",
            "             ^^^^^^^^^^^^^^^^^^^^^^^^^^^^^^^^^^^^^^^^^^^^^^^^^^^^^\n",
            "  File \"/usr/local/lib/python3.11/dist-packages/jinja2/environment.py\", line 1295, in render\n",
            "    self.environment.handle_exception()\n",
            "  File \"/usr/local/lib/python3.11/dist-packages/jinja2/environment.py\", line 942, in handle_exception\n",
            "    raise rewrite_traceback_stack(source=source)\n",
            "  File \"/usr/local/share/jupyter/nbconvert/templates/latex/index.tex.j2\", line 8, in top-level template code\n",
            "    ((* extends cell_style *))\n",
            "    ^^^^^^^^^^^^^^^^^^^^^^^^^\n",
            "  File \"/usr/local/share/jupyter/nbconvert/templates/latex/style_jupyter.tex.j2\", line 176, in top-level template code\n",
            "    \\prompt{(((prompt)))}{(((prompt_color)))}{(((execution_count)))}{(((extra_space)))}\n",
            "    ^^^^^^^^^^^^^^^^^^^^^^^^^\n",
            "  File \"/usr/local/share/jupyter/nbconvert/templates/latex/base.tex.j2\", line 7, in top-level template code\n",
            "    ((*- extends 'document_contents.tex.j2' -*))\n",
            "    ^^^^^^^^^^^^^^^^^^^^^^^^^\n",
            "  File \"/usr/local/share/jupyter/nbconvert/templates/latex/document_contents.tex.j2\", line 51, in top-level template code\n",
            "    ((*- block figure scoped -*))\n",
            "    ^^^^^^^^^^^^^^^^^^^^^^^^^\n",
            "  File \"/usr/local/share/jupyter/nbconvert/templates/latex/display_priority.j2\", line 5, in top-level template code\n",
            "    ((*- extends 'null.j2' -*))\n",
            "    ^^^^^^^^^^^^^^^^^^^^^^^^^\n",
            "  File \"/usr/local/share/jupyter/nbconvert/templates/latex/null.j2\", line 30, in top-level template code\n",
            "    ((*- block body -*))\n",
            "  File \"/usr/local/share/jupyter/nbconvert/templates/latex/base.tex.j2\", line 241, in block 'body'\n",
            "    ((( super() )))\n",
            "  File \"/usr/local/share/jupyter/nbconvert/templates/latex/null.j2\", line 32, in block 'body'\n",
            "    ((*- block any_cell scoped -*))\n",
            "    ^^^^^^^^^^^^^^^^^^^^^^^^^\n",
            "  File \"/usr/local/share/jupyter/nbconvert/templates/latex/null.j2\", line 85, in block 'any_cell'\n",
            "    ((*- block markdowncell scoped-*)) ((*- endblock markdowncell -*))\n",
            "    ^^^^^^^^^^^^^^^^^^^^^^^^^\n",
            "  File \"/usr/local/share/jupyter/nbconvert/templates/latex/document_contents.tex.j2\", line 68, in block 'markdowncell'\n",
            "    ((( cell.source | citation2latex | strip_files_prefix | convert_pandoc('markdown+tex_math_double_backslash', 'json',extra_args=[]) | resolve_references | convert_explicitly_relative_paths | convert_pandoc('json','latex'))))\n",
            "    ^^^^^^^^^^^^^^^^^^^^^^^^^\n",
            "  File \"/usr/local/lib/python3.11/dist-packages/nbconvert/filters/pandoc.py\", line 36, in convert_pandoc\n",
            "    return pandoc(source, from_format, to_format, extra_args=extra_args)\n",
            "           ^^^^^^^^^^^^^^^^^^^^^^^^^^^^^^^^^^^^^^^^^^^^^^^^^^^^^^^^^^^^^\n",
            "  File \"/usr/local/lib/python3.11/dist-packages/nbconvert/utils/pandoc.py\", line 50, in pandoc\n",
            "    check_pandoc_version()\n",
            "  File \"/usr/local/lib/python3.11/dist-packages/nbconvert/utils/pandoc.py\", line 98, in check_pandoc_version\n",
            "    v = get_pandoc_version()\n",
            "        ^^^^^^^^^^^^^^^^^^^^\n",
            "  File \"/usr/local/lib/python3.11/dist-packages/nbconvert/utils/pandoc.py\", line 75, in get_pandoc_version\n",
            "    raise PandocMissing()\n",
            "nbconvert.utils.pandoc.PandocMissing: Pandoc wasn't found.\n",
            "Please check that pandoc is installed:\n",
            "https://pandoc.org/installing.html\n"
          ]
        }
      ]
    },
    {
      "cell_type": "code",
      "source": [],
      "metadata": {
        "id": "doav6lpsgVPB"
      },
      "execution_count": 71,
      "outputs": []
    }
  ]
}